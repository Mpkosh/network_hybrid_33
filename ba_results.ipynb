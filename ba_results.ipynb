{
 "cells": [
  {
   "cell_type": "code",
   "execution_count": 1,
   "id": "949ae98a-13a9-4a7a-9aa0-28fcac8fd525",
   "metadata": {
    "tags": []
   },
   "outputs": [],
   "source": [
    "import pandas as pd\n",
    "import numpy as np\n",
    "import matplotlib.pyplot as plt\n",
    "import matplotlib.gridspec as gridspec\n",
    "from sklearn.metrics import root_mean_squared_error as rmse\n",
    "import time\n",
    "import tkinter as tk\n",
    "from tkinter import messagebox\n",
    "import math\n",
    "import matplotlib as mpl\n",
    "from scipy.spatial import ConvexHull\n",
    "\n",
    "# our functions\n",
    "import predict_Beta_I\n",
    "import choice_start_day\n",
    "import plot_hyb\n",
    "\n",
    "import warnings\n",
    "warnings.filterwarnings(action='ignore')\n",
    "\n",
    "# to account for updates when files change\n",
    "%load_ext autoreload\n",
    "%autoreload 2"
   ]
  },
  {
   "cell_type": "code",
   "execution_count": null,
   "id": "2a43d59e-2022-4c0b-824b-1efdf0a7f18a",
   "metadata": {},
   "outputs": [],
   "source": []
  },
  {
   "cell_type": "code",
   "execution_count": 2,
   "id": "a0fcea1b-0735-43db-8030-9bf035103c07",
   "metadata": {
    "tags": []
   },
   "outputs": [
    {
     "data": {
      "text/plain": [
       "array([   0,    1,    2, ..., 1497, 1498, 1499])"
      ]
     },
     "execution_count": 2,
     "metadata": {},
     "output_type": "execute_result"
    }
   ],
   "source": [
    "df_seeds = pd.read_csv('initial_data/seeds_set_parameters.csv')\n",
    "df_seeds[df_seeds.set!='test']['seed_number'].values"
   ]
  },
  {
   "cell_type": "code",
   "execution_count": 40,
   "id": "ff951957-f974-4ad1-bd4b-f0e2e48d4b09",
   "metadata": {
    "tags": []
   },
   "outputs": [],
   "source": [
    "seed_dirs='initial_data/initial_data_ba_10000/'\n",
    "seed_number=0\n",
    "seed_df =  pd.read_csv(seed_dirs+f'seir_seed_{seed_number}.csv')\n",
    "seed_df = seed_df.iloc[:,:5].copy()\n",
    "seed_df.columns = ['S','E','I','R','Beta']\n",
    "end_df  = seed_df[(seed_df.E==0)&(seed_df.I==0)]\n",
    "if end_df.shape[0]:\n",
    "    seed_df = seed_df.iloc[:end_df.index[0]].copy()\n"
   ]
  },
  {
   "cell_type": "code",
   "execution_count": 35,
   "id": "cd396302-6feb-4c95-ad45-47e0da285a8b",
   "metadata": {
    "tags": []
   },
   "outputs": [
    {
     "data": {
      "text/plain": [
       "np.int64(10)"
      ]
     },
     "execution_count": 35,
     "metadata": {},
     "output_type": "execute_result"
    }
   ],
   "source": [
    "start_day = choice_start_day.choose_method(seed_df, \n",
    "                                           'roll_var_npeople')\n",
    "start_day"
   ]
  },
  {
   "cell_type": "code",
   "execution_count": null,
   "id": "8d212791-6b0f-404f-9fbe-53bf02e3fa10",
   "metadata": {},
   "outputs": [],
   "source": []
  },
  {
   "cell_type": "code",
   "execution_count": 27,
   "id": "4fe54094-19c8-4aae-8cbe-2ec19a84ca09",
   "metadata": {
    "tags": []
   },
   "outputs": [],
   "source": [
    "def apply_methods(seed_dirs='initial_data/initial_data_ba_10000/',\n",
    "                 idx_s=0, idx_e=11, n_seeds=1201, show_fig_flag=False):\n",
    "    \n",
    "    seed_numbers = df_seeds[df_seeds.set!='test']['seed_number'].values[:n_seeds]\n",
    "\n",
    "    types_start_day = ['roll_var_npeople']#, 'roll_var', 'roll_var_seq']\n",
    "\n",
    "    methods = ['last value','rolling mean last value',\n",
    "               'expanding mean last value','biexponential decay', \n",
    "\n",
    "            'median beta', 'regression (day)',\n",
    "\n",
    "            'median beta;\\nshifted forecast',\n",
    "            'regression (day);\\nshifted forecast',\n",
    "            'regression (day);\\nincremental learning',\n",
    "            'regression (day, SEIR, previous I)','lstm (day, E, previous I)'\n",
    "              ]\n",
    "\n",
    "    new_labels = ['last_value', 'rolling_mean_last_value',\n",
    "            'expanding_mean_last_value','biexponential_decay', \n",
    "\n",
    "            'median_beta', 'regression_day',\n",
    "\n",
    "            'median_beta_shifted_forecast',\n",
    "            'regression_day_shifted_forecast',\n",
    "            'regression_day_incremental_learning',\n",
    "            'regression_day_SEIR_previous_I','lstm_day_E_previous_I'\n",
    "                 ]\n",
    "\n",
    "    for type_start_day in types_start_day:\n",
    "\n",
    "        for beta_pred,new_label in zip(methods[idx_s:idx_e], \n",
    "                                       new_labels[idx_s:idx_e]):\n",
    "\n",
    "            if 'median' in beta_pred:\n",
    "                model_path = f'{seed_dirs}/median_beta.csv'\n",
    "            elif 'regression (day)' in beta_pred: \n",
    "                model_path = f'{seed_dirs}/regression_day_for_seir.joblib'\n",
    "            elif '(day, SEIR, previous I)' in beta_pred:\n",
    "                model_path = f'{seed_dirs}/regression_day_SEIR_for_seir.joblib'\n",
    "            elif 'lstm' in beta_pred:\n",
    "                model_path = f'{seed_dirs}/lstm_day_E_prev_I_for_seir.keras'    \n",
    "            else:\n",
    "                model_path=''\n",
    "            print(model_path)\n",
    "            all_rmse_I, all_rmse_Beta, all_peak, \\\n",
    "                execution_time, start_days = plot_hyb.main_f(I_prediction_method='seir', \n",
    "                                    stochastic=False, count_stoch_line=0, \n",
    "                                    beta_prediction_method=beta_pred, \n",
    "                                    type_start_day=type_start_day, \n",
    "                                    seed_numbers=seed_numbers, \n",
    "                                    show_fig_flag=show_fig_flag,\n",
    "                                    seed_dirs=seed_dirs, \n",
    "                                    sigma=0.1, gamma=0.08, \n",
    "                                    ax=None, model_path=model_path)\n",
    "            # creating a dataframe for peaks\n",
    "            all_peak = pd.DataFrame(all_peak, columns=['actual_peak_I', 'predicted_peak_I', \n",
    "                                                       'actual_peak_day', 'predicted_peak_day'])\n",
    "            # creating a dataframe for peaks RMSE, predicted time, start day\n",
    "            rmse_df = pd.DataFrame({\n",
    "                'rmse_I': all_rmse_I,\n",
    "                'rmse_Beta': all_rmse_Beta,\n",
    "                'time_predict': execution_time,\n",
    "                f'{type_start_day}': start_days})\n",
    "\n",
    "            # merging dataframes\n",
    "            results = pd.concat([rmse_df, all_peak], axis=1)\n",
    "            \n",
    "            ntype, npop = seed_dirs[26:-1].split('_')\n",
    "            if int(npop) == 10000:\n",
    "                npop = ''\n",
    "            elif int(npop) == 100000:\n",
    "                npop = '_100k'\n",
    "            elif int(npop) == 50000:\n",
    "                npop = '_50k'\n",
    "\n",
    "            results.to_csv(f'results/{ntype+npop}/{type_start_day}/{new_label}_results.csv', \n",
    "                           index=False)"
   ]
  },
  {
   "cell_type": "code",
   "execution_count": 33,
   "id": "916fd32b-0461-4e44-820d-d30c3f898f17",
   "metadata": {
    "tags": []
   },
   "outputs": [
    {
     "name": "stdout",
     "output_type": "stream",
     "text": [
      "initial_data/initial_data_r_100000//median_beta.csv\n",
      "median beta initial_data/initial_data_r_100000//median_beta.csv\n"
     ]
    }
   ],
   "source": [
    "apply_methods(seed_dirs='initial_data/initial_data_r_100000/',\n",
    "                 idx_s=4, idx_e=5, n_seeds=1201, show_fig_flag=False)"
   ]
  },
  {
   "cell_type": "code",
   "execution_count": null,
   "id": "292a0310-96a2-427b-9d8d-667112a3f9d4",
   "metadata": {},
   "outputs": [],
   "source": []
  }
 ],
 "metadata": {
  "kernelspec": {
   "display_name": "Python [conda env:abm_seir]",
   "language": "python",
   "name": "conda-env-abm_seir-py"
  },
  "language_info": {
   "codemirror_mode": {
    "name": "ipython",
    "version": 3
   },
   "file_extension": ".py",
   "mimetype": "text/x-python",
   "name": "python",
   "nbconvert_exporter": "python",
   "pygments_lexer": "ipython3",
   "version": "3.9.21"
  }
 },
 "nbformat": 4,
 "nbformat_minor": 5
}
